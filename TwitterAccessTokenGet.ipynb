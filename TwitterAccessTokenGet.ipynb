{
  "nbformat": 4,
  "nbformat_minor": 0,
  "metadata": {
    "colab": {
      "provenance": []
    },
    "kernelspec": {
      "name": "python3",
      "display_name": "Python 3"
    },
    "language_info": {
      "name": "python"
    },
    "accelerator": "GPU",
    "gpuClass": "standard"
  },
  "cells": [
    {
      "cell_type": "code",
      "execution_count": null,
      "metadata": {
        "id": "cm2rxmFIn5Tf"
      },
      "outputs": [],
      "source": [
        "!pip install tweepy"
      ]
    },
    {
      "cell_type": "code",
      "source": [
        "# Twitter APIキーを設定する\n",
        "consumer_key = 'your_consumer_key'  # 自分のTwitter APIキーを設定\n",
        "consumer_secret = 'your_consumer_secret'  # 自分のTwitter APIシークレットキーを設定"
      ],
      "metadata": {
        "id": "JBkmkikbn7KK"
      },
      "execution_count": null,
      "outputs": []
    },
    {
      "cell_type": "code",
      "source": [
        "# OAuth認証を行う\n",
        "auth = tweepy.OAuthHandler(consumer_key, consumer_secret)\n",
        "\n",
        "# 認証URLを取得する\n",
        "auth_url = auth.get_authorization_url()\n",
        "\n",
        "# 認証URLを出力する\n",
        "print(\"このURLにアクセスし、アプリケーションを承認してください：\" + auth_url)\n",
        "\n",
        "# PINコードを入力するようにユーザーに促す\n",
        "verifier = input(\"PINコードを入力してください：\")\n",
        "\n",
        "# アクセストークンを取得する\n",
        "auth.get_access_token(verifier)\n",
        "\n",
        "# アクセストークンを表示する\n",
        "print(\"Access Token:\")\n",
        "print(\" - access_token: \" + auth.access_token)"
      ],
      "metadata": {
        "id": "Zj5K3yOkn9L7"
      },
      "execution_count": null,
      "outputs": []
    }
  ]
}
